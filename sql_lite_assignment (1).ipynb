{
 "cells": [
  {
   "cell_type": "code",
   "execution_count": null,
   "id": "ab7fcd7d",
   "metadata": {},
   "outputs": [],
   "source": [
    "class data_sampling:\n",
    "    def __init__(self,file_name):\n",
    "        self.file_name = file_name\n",
    "    def list_word(self):\n",
    "        try:\n",
    "            f = open(self.file_name,\"r\")\n",
    "            l = []\n",
    "            for i in f:\n",
    "                i = i.strip(\"\\n\")\n",
    "                l.append(i)\n",
    "            return l\n",
    "        except IOError:\n",
    "            f.close()\n",
    "        finally:\n",
    "            f.close()\n",
    "    def count_word_in_file(self):\n",
    "        try:\n",
    "            l = self.list_word()\n",
    "            d = {}\n",
    "            for i in l:\n",
    "                if i in d:\n",
    "                    d[i] += 1\n",
    "                else:\n",
    "                    d[i] = 1\n",
    "            return list(d.items())\n",
    "        except Exception as e:\n",
    "            print(e)\n",
    "    def word_start_with_same_letter(self):\n",
    "        try:\n",
    "            l = self.list_word()\n",
    "            d = {}\n",
    "            for i in l:\n",
    "                if i[0] in d:\n",
    "                    d[i[0]] += 1\n",
    "                else:\n",
    "                    d[i[0]] = 1\n",
    "            return list(d.items())\n",
    "        except Exception as e:\n",
    "               print(e)\n",
    "    def remove_all_except_alph(self):\n",
    "        try:\n",
    "            import re\n",
    "            import io\n",
    "            regexp = re.compile(\"[^a-zA-Z]\")\n",
    "            f1 = io.open(self.file_name, 'r',encodeing = 'utf-8')\n",
    "            lines = f1.readlines()\n",
    "            f1 = io.open(self.file_name, 'w', encoding = 'utf-8')\n",
    "            for i in lines:\n",
    "                i = i.strip(\"\\n\")\n",
    "                s = regexp.sub(\"\", i)\n",
    "                if s != \"\":\n",
    "                    f1.write(s)\n",
    "                    f1.write(\"\\n\")\n",
    "        except Exception as e:\n",
    "            f1.close()\n",
    "        finally:\n",
    "            f1.close()\n",
    "       \n",
    "    def insert_tupleset_all_record_db(self, l1, l2, l3, l4, l5):\n",
    "            try:\n",
    "                list_tuple = list(zip(l1, l2, l3, l4, l5))\n",
    "                import sqlite3\n",
    "                db = sqlite3.connect(\"sqlite_assignment.db\")\n",
    "                c = db.cursor()\n",
    "                c.execute(\"create table assignment1(file1 txt, file2 txt, file3 txt, file4 txt, file5 txt)\")\n",
    "                c.executemany(\"insert into assignment1 values(?, ?, ?, ?, ?);\", list_tuple)\n",
    "                data = c.execute(\"select * from assignment1\")\n",
    "                for i in data:\n",
    "                    print(i)\n",
    "            except Exception as e:\n",
    "                print(e)\n",
    "            finally:\n",
    "                db.close()\n",
    "           "
   ]
  },
  {
   "cell_type": "code",
   "execution_count": null,
   "id": "00ce29d9",
   "metadata": {},
   "outputs": [],
   "source": [
    "d1 = data_sampling(\"vocab.nytimes.txt\")"
   ]
  },
  {
   "cell_type": "code",
   "execution_count": null,
   "id": "9900c720",
   "metadata": {},
   "outputs": [],
   "source": [
    "l1 = d1.list_word()"
   ]
  },
  {
   "cell_type": "code",
   "execution_count": null,
   "id": "2fac937a",
   "metadata": {},
   "outputs": [],
   "source": [
    "d2 = data_sampling(\"vocab.pubmed (1).txt\")"
   ]
  },
  {
   "cell_type": "code",
   "execution_count": null,
   "id": "d35b4922",
   "metadata": {},
   "outputs": [],
   "source": [
    "l2 = d2.list_word()"
   ]
  },
  {
   "cell_type": "code",
   "execution_count": null,
   "id": "779728cf",
   "metadata": {},
   "outputs": [],
   "source": [
    "print(l2)"
   ]
  },
  {
   "cell_type": "code",
   "execution_count": null,
   "id": "3565626d",
   "metadata": {},
   "outputs": [],
   "source": [
    "d3 = data_sampling(\"vocab.enron.txt\")\n",
    "d4 = data_sampling(\"vocab.kos.txt\")\n",
    "d5 = data_sampling(\"vocab.nips.txt\")"
   ]
  },
  {
   "cell_type": "code",
   "execution_count": null,
   "id": "6aac8dff",
   "metadata": {},
   "outputs": [],
   "source": [
    "l3 = d3.list_word()"
   ]
  },
  {
   "cell_type": "code",
   "execution_count": null,
   "id": "e48a18b6",
   "metadata": {},
   "outputs": [],
   "source": [
    "l4 = d4.list_word()"
   ]
  },
  {
   "cell_type": "code",
   "execution_count": null,
   "id": "580e95d6",
   "metadata": {},
   "outputs": [],
   "source": [
    "l5 = d5.list_word()"
   ]
  },
  {
   "cell_type": "code",
   "execution_count": null,
   "id": "ec568963",
   "metadata": {},
   "outputs": [],
   "source": [
    "print(l5)"
   ]
  },
  {
   "cell_type": "code",
   "execution_count": null,
   "id": "eddb6b7b",
   "metadata": {},
   "outputs": [],
   "source": [
    "d1.insert_tupleset_all_record_db(l1, l2, l3, l4, l5)"
   ]
  },
  {
   "cell_type": "code",
   "execution_count": null,
   "id": "c2821a25",
   "metadata": {},
   "outputs": [],
   "source": []
  }
 ],
 "metadata": {
  "kernelspec": {
   "display_name": "Python 3 (ipykernel)",
   "language": "python",
   "name": "python3"
  },
  "language_info": {
   "codemirror_mode": {
    "name": "ipython",
    "version": 3
   },
   "file_extension": ".py",
   "mimetype": "text/x-python",
   "name": "python",
   "nbconvert_exporter": "python",
   "pygments_lexer": "ipython3",
   "version": "3.8.11"
  }
 },
 "nbformat": 4,
 "nbformat_minor": 5
}
